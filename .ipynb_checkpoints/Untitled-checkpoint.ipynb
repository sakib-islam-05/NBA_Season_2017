{
 "cells": [
  {
   "cell_type": "code",
   "execution_count": 2,
   "id": "73ae55bf-3934-4f2d-9e74-0fe83c4749c4",
   "metadata": {},
   "outputs": [],
   "source": [
    "import pandas as pd\n",
    "import warnings\n",
    "warnings.filterwarnings('ignore')"
   ]
  },
  {
   "cell_type": "code",
   "execution_count": 4,
   "id": "332b2014-1817-43d7-b4ec-5caead24c6d0",
   "metadata": {},
   "outputs": [],
   "source": [
    "players_df=pd.read_csv(r\"D:\\NBA 2017 Season\\player_data.csv\",index_col=[0])"
   ]
  },
  {
   "cell_type": "code",
   "execution_count": 6,
   "id": "fd916772-9fed-4763-9ad3-7e1000390c8c",
   "metadata": {},
   "outputs": [],
   "source": [
    "s2017_df=pd.read_csv(r\"D:\\NBA 2017 Season\\2017_season_data.csv\",index_col=[0])"
   ]
  },
  {
   "cell_type": "code",
   "execution_count": 8,
   "id": "aa1f2650-08fe-4ac9-90cb-6e0d717aeffa",
   "metadata": {},
   "outputs": [
    {
     "data": {
      "text/html": [
       "<div>\n",
       "<style scoped>\n",
       "    .dataframe tbody tr th:only-of-type {\n",
       "        vertical-align: middle;\n",
       "    }\n",
       "\n",
       "    .dataframe tbody tr th {\n",
       "        vertical-align: top;\n",
       "    }\n",
       "\n",
       "    .dataframe thead th {\n",
       "        text-align: right;\n",
       "    }\n",
       "</style>\n",
       "<table border=\"1\" class=\"dataframe\">\n",
       "  <thead>\n",
       "    <tr style=\"text-align: right;\">\n",
       "      <th></th>\n",
       "      <th>name</th>\n",
       "      <th>year_start</th>\n",
       "      <th>year_end</th>\n",
       "      <th>position</th>\n",
       "      <th>height</th>\n",
       "      <th>weight</th>\n",
       "      <th>birth_date</th>\n",
       "      <th>college</th>\n",
       "    </tr>\n",
       "  </thead>\n",
       "  <tbody>\n",
       "    <tr>\n",
       "      <th>0</th>\n",
       "      <td>Alaa Abdelnaby</td>\n",
       "      <td>1991</td>\n",
       "      <td>1995</td>\n",
       "      <td>F-C</td>\n",
       "      <td>6-10</td>\n",
       "      <td>240.0</td>\n",
       "      <td>June 24, 1968</td>\n",
       "      <td>Duke University</td>\n",
       "    </tr>\n",
       "  </tbody>\n",
       "</table>\n",
       "</div>"
      ],
      "text/plain": [
       "             name  year_start  year_end position height  weight  \\\n",
       "0  Alaa Abdelnaby        1991      1995      F-C   6-10   240.0   \n",
       "\n",
       "      birth_date          college  \n",
       "0  June 24, 1968  Duke University  "
      ]
     },
     "execution_count": 8,
     "metadata": {},
     "output_type": "execute_result"
    }
   ],
   "source": [
    "players_df.head(1)"
   ]
  },
  {
   "cell_type": "code",
   "execution_count": 10,
   "id": "8154eab3-bea8-4d19-baf7-e2724cfe5bd4",
   "metadata": {},
   "outputs": [
    {
     "name": "stdout",
     "output_type": "stream",
     "text": [
      "<class 'pandas.core.frame.DataFrame'>\n",
      "Index: 4550 entries, 0 to 4549\n",
      "Data columns (total 8 columns):\n",
      " #   Column      Non-Null Count  Dtype  \n",
      "---  ------      --------------  -----  \n",
      " 0   name        4550 non-null   object \n",
      " 1   year_start  4550 non-null   int64  \n",
      " 2   year_end    4550 non-null   int64  \n",
      " 3   position    4549 non-null   object \n",
      " 4   height      4549 non-null   object \n",
      " 5   weight      4544 non-null   float64\n",
      " 6   birth_date  4519 non-null   object \n",
      " 7   college     4248 non-null   object \n",
      "dtypes: float64(1), int64(2), object(5)\n",
      "memory usage: 319.9+ KB\n"
     ]
    }
   ],
   "source": [
    "players_df.info()"
   ]
  },
  {
   "cell_type": "code",
   "execution_count": 12,
   "id": "ebcb727c-6207-4a67-a63b-2fc9d9ab6457",
   "metadata": {},
   "outputs": [
    {
     "data": {
      "text/html": [
       "<div>\n",
       "<style scoped>\n",
       "    .dataframe tbody tr th:only-of-type {\n",
       "        vertical-align: middle;\n",
       "    }\n",
       "\n",
       "    .dataframe tbody tr th {\n",
       "        vertical-align: top;\n",
       "    }\n",
       "\n",
       "    .dataframe thead th {\n",
       "        text-align: right;\n",
       "    }\n",
       "</style>\n",
       "<table border=\"1\" class=\"dataframe\">\n",
       "  <thead>\n",
       "    <tr style=\"text-align: right;\">\n",
       "      <th></th>\n",
       "      <th>Year</th>\n",
       "      <th>Player</th>\n",
       "      <th>Pos</th>\n",
       "      <th>Age</th>\n",
       "      <th>Tm</th>\n",
       "      <th>G</th>\n",
       "      <th>GS</th>\n",
       "      <th>MP</th>\n",
       "      <th>PER</th>\n",
       "      <th>TS%</th>\n",
       "      <th>...</th>\n",
       "      <th>FT%</th>\n",
       "      <th>ORB</th>\n",
       "      <th>DRB</th>\n",
       "      <th>TRB</th>\n",
       "      <th>AST</th>\n",
       "      <th>STL</th>\n",
       "      <th>BLK</th>\n",
       "      <th>TOV</th>\n",
       "      <th>PF</th>\n",
       "      <th>PTS</th>\n",
       "    </tr>\n",
       "  </thead>\n",
       "  <tbody>\n",
       "    <tr>\n",
       "      <th>0</th>\n",
       "      <td>2017.0</td>\n",
       "      <td>Alex Abrines</td>\n",
       "      <td>SG</td>\n",
       "      <td>23.0</td>\n",
       "      <td>OKC</td>\n",
       "      <td>68.0</td>\n",
       "      <td>6.0</td>\n",
       "      <td>1055.0</td>\n",
       "      <td>10.1</td>\n",
       "      <td>0.56</td>\n",
       "      <td>...</td>\n",
       "      <td>0.898</td>\n",
       "      <td>18.0</td>\n",
       "      <td>68.0</td>\n",
       "      <td>86.0</td>\n",
       "      <td>40.0</td>\n",
       "      <td>37.0</td>\n",
       "      <td>8.0</td>\n",
       "      <td>33.0</td>\n",
       "      <td>114.0</td>\n",
       "      <td>406.0</td>\n",
       "    </tr>\n",
       "  </tbody>\n",
       "</table>\n",
       "<p>1 rows × 52 columns</p>\n",
       "</div>"
      ],
      "text/plain": [
       "     Year        Player Pos   Age   Tm     G   GS      MP   PER   TS%  ...  \\\n",
       "0  2017.0  Alex Abrines  SG  23.0  OKC  68.0  6.0  1055.0  10.1  0.56  ...   \n",
       "\n",
       "     FT%   ORB   DRB   TRB   AST   STL  BLK   TOV     PF    PTS  \n",
       "0  0.898  18.0  68.0  86.0  40.0  37.0  8.0  33.0  114.0  406.0  \n",
       "\n",
       "[1 rows x 52 columns]"
      ]
     },
     "execution_count": 12,
     "metadata": {},
     "output_type": "execute_result"
    }
   ],
   "source": [
    "s2017_df.head(1)"
   ]
  },
  {
   "cell_type": "code",
   "execution_count": 22,
   "id": "bc56d9df-0aeb-46a1-9dea-819aedd1ba4c",
   "metadata": {},
   "outputs": [
    {
     "name": "stdout",
     "output_type": "stream",
     "text": [
      "<class 'pandas.core.frame.DataFrame'>\n",
      "Index: 595 entries, 0 to 594\n",
      "Data columns (total 52 columns):\n",
      " #   Column  Non-Null Count  Dtype  \n",
      "---  ------  --------------  -----  \n",
      " 0   Year    595 non-null    float64\n",
      " 1   Player  595 non-null    object \n",
      " 2   Pos     595 non-null    object \n",
      " 3   Age     595 non-null    float64\n",
      " 4   Tm      595 non-null    object \n",
      " 5   G       595 non-null    float64\n",
      " 6   GS      595 non-null    float64\n",
      " 7   MP      595 non-null    float64\n",
      " 8   PER     595 non-null    float64\n",
      " 9   TS%     593 non-null    float64\n",
      " 10  3PAr    593 non-null    float64\n",
      " 11  FTr     593 non-null    float64\n",
      " 12  ORB%    595 non-null    float64\n",
      " 13  DRB%    595 non-null    float64\n",
      " 14  TRB%    595 non-null    float64\n",
      " 15  AST%    595 non-null    float64\n",
      " 16  STL%    595 non-null    float64\n",
      " 17  BLK%    595 non-null    float64\n",
      " 18  TOV%    593 non-null    float64\n",
      " 19  USG%    595 non-null    float64\n",
      " 20  blanl   0 non-null      float64\n",
      " 21  OWS     595 non-null    float64\n",
      " 22  DWS     595 non-null    float64\n",
      " 23  WS      595 non-null    float64\n",
      " 24  WS/48   595 non-null    float64\n",
      " 25  blank2  0 non-null      float64\n",
      " 26  OBPM    595 non-null    float64\n",
      " 27  DBPM    595 non-null    float64\n",
      " 28  BPM     595 non-null    float64\n",
      " 29  VORP    595 non-null    float64\n",
      " 30  FG      595 non-null    float64\n",
      " 31  FGA     595 non-null    float64\n",
      " 32  FG%     593 non-null    float64\n",
      " 33  3P      595 non-null    float64\n",
      " 34  3PA     595 non-null    float64\n",
      " 35  3P%     549 non-null    float64\n",
      " 36  2P      595 non-null    float64\n",
      " 37  2PA     595 non-null    float64\n",
      " 38  2P%     590 non-null    float64\n",
      " 39  eFG%    593 non-null    float64\n",
      " 40  FT      595 non-null    float64\n",
      " 41  FTA     595 non-null    float64\n",
      " 42  FT%     571 non-null    float64\n",
      " 43  ORB     595 non-null    float64\n",
      " 44  DRB     595 non-null    float64\n",
      " 45  TRB     595 non-null    float64\n",
      " 46  AST     595 non-null    float64\n",
      " 47  STL     595 non-null    float64\n",
      " 48  BLK     595 non-null    float64\n",
      " 49  TOV     595 non-null    float64\n",
      " 50  PF      595 non-null    float64\n",
      " 51  PTS     595 non-null    float64\n",
      "dtypes: float64(49), object(3)\n",
      "memory usage: 246.4+ KB\n"
     ]
    }
   ],
   "source": [
    "s2017_df.info()"
   ]
  },
  {
   "cell_type": "code",
   "execution_count": null,
   "id": "8f278bcc-9d07-414b-8f41-f36c80cce2ee",
   "metadata": {},
   "outputs": [],
   "source": []
  },
  {
   "cell_type": "markdown",
   "id": "d85acf8a-2781-43fe-8569-c1e5000918b3",
   "metadata": {},
   "source": [
    "## Merge s2017_df and players_df with a left join"
   ]
  },
  {
   "cell_type": "code",
   "execution_count": 14,
   "id": "8f621ff1-292b-4448-aa35-29f395dd9f7d",
   "metadata": {},
   "outputs": [],
   "source": [
    "df=s2017_df.merge(players_df,how='left',left_on='Player',right_on='name')"
   ]
  },
  {
   "cell_type": "code",
   "execution_count": 16,
   "id": "0cefb50d-73ef-4db6-bfe8-38a38bb7bcb4",
   "metadata": {},
   "outputs": [
    {
     "data": {
      "text/html": [
       "<div>\n",
       "<style scoped>\n",
       "    .dataframe tbody tr th:only-of-type {\n",
       "        vertical-align: middle;\n",
       "    }\n",
       "\n",
       "    .dataframe tbody tr th {\n",
       "        vertical-align: top;\n",
       "    }\n",
       "\n",
       "    .dataframe thead th {\n",
       "        text-align: right;\n",
       "    }\n",
       "</style>\n",
       "<table border=\"1\" class=\"dataframe\">\n",
       "  <thead>\n",
       "    <tr style=\"text-align: right;\">\n",
       "      <th></th>\n",
       "      <th>Year</th>\n",
       "      <th>Player</th>\n",
       "      <th>Pos</th>\n",
       "      <th>Age</th>\n",
       "      <th>Tm</th>\n",
       "      <th>G</th>\n",
       "      <th>GS</th>\n",
       "      <th>MP</th>\n",
       "      <th>PER</th>\n",
       "      <th>TS%</th>\n",
       "      <th>...</th>\n",
       "      <th>PF</th>\n",
       "      <th>PTS</th>\n",
       "      <th>name</th>\n",
       "      <th>year_start</th>\n",
       "      <th>year_end</th>\n",
       "      <th>position</th>\n",
       "      <th>height</th>\n",
       "      <th>weight</th>\n",
       "      <th>birth_date</th>\n",
       "      <th>college</th>\n",
       "    </tr>\n",
       "  </thead>\n",
       "  <tbody>\n",
       "    <tr>\n",
       "      <th>0</th>\n",
       "      <td>2017.0</td>\n",
       "      <td>Alex Abrines</td>\n",
       "      <td>SG</td>\n",
       "      <td>23.0</td>\n",
       "      <td>OKC</td>\n",
       "      <td>68.0</td>\n",
       "      <td>6.0</td>\n",
       "      <td>1055.0</td>\n",
       "      <td>10.1</td>\n",
       "      <td>0.560</td>\n",
       "      <td>...</td>\n",
       "      <td>114.0</td>\n",
       "      <td>406.0</td>\n",
       "      <td>Alex Abrines</td>\n",
       "      <td>2017.0</td>\n",
       "      <td>2018.0</td>\n",
       "      <td>G-F</td>\n",
       "      <td>6-6</td>\n",
       "      <td>190.0</td>\n",
       "      <td>August 1, 1993</td>\n",
       "      <td>NaN</td>\n",
       "    </tr>\n",
       "    <tr>\n",
       "      <th>1</th>\n",
       "      <td>2017.0</td>\n",
       "      <td>Quincy Acy</td>\n",
       "      <td>PF</td>\n",
       "      <td>26.0</td>\n",
       "      <td>TOT</td>\n",
       "      <td>38.0</td>\n",
       "      <td>1.0</td>\n",
       "      <td>558.0</td>\n",
       "      <td>11.8</td>\n",
       "      <td>0.565</td>\n",
       "      <td>...</td>\n",
       "      <td>67.0</td>\n",
       "      <td>222.0</td>\n",
       "      <td>Quincy Acy</td>\n",
       "      <td>2013.0</td>\n",
       "      <td>2018.0</td>\n",
       "      <td>F</td>\n",
       "      <td>6-7</td>\n",
       "      <td>240.0</td>\n",
       "      <td>October 6, 1990</td>\n",
       "      <td>Baylor University</td>\n",
       "    </tr>\n",
       "    <tr>\n",
       "      <th>2</th>\n",
       "      <td>2017.0</td>\n",
       "      <td>Quincy Acy</td>\n",
       "      <td>PF</td>\n",
       "      <td>26.0</td>\n",
       "      <td>DAL</td>\n",
       "      <td>6.0</td>\n",
       "      <td>0.0</td>\n",
       "      <td>48.0</td>\n",
       "      <td>-1.4</td>\n",
       "      <td>0.355</td>\n",
       "      <td>...</td>\n",
       "      <td>9.0</td>\n",
       "      <td>13.0</td>\n",
       "      <td>Quincy Acy</td>\n",
       "      <td>2013.0</td>\n",
       "      <td>2018.0</td>\n",
       "      <td>F</td>\n",
       "      <td>6-7</td>\n",
       "      <td>240.0</td>\n",
       "      <td>October 6, 1990</td>\n",
       "      <td>Baylor University</td>\n",
       "    </tr>\n",
       "    <tr>\n",
       "      <th>3</th>\n",
       "      <td>2017.0</td>\n",
       "      <td>Quincy Acy</td>\n",
       "      <td>PF</td>\n",
       "      <td>26.0</td>\n",
       "      <td>BRK</td>\n",
       "      <td>32.0</td>\n",
       "      <td>1.0</td>\n",
       "      <td>510.0</td>\n",
       "      <td>13.1</td>\n",
       "      <td>0.587</td>\n",
       "      <td>...</td>\n",
       "      <td>58.0</td>\n",
       "      <td>209.0</td>\n",
       "      <td>Quincy Acy</td>\n",
       "      <td>2013.0</td>\n",
       "      <td>2018.0</td>\n",
       "      <td>F</td>\n",
       "      <td>6-7</td>\n",
       "      <td>240.0</td>\n",
       "      <td>October 6, 1990</td>\n",
       "      <td>Baylor University</td>\n",
       "    </tr>\n",
       "    <tr>\n",
       "      <th>4</th>\n",
       "      <td>2017.0</td>\n",
       "      <td>Steven Adams</td>\n",
       "      <td>C</td>\n",
       "      <td>23.0</td>\n",
       "      <td>OKC</td>\n",
       "      <td>80.0</td>\n",
       "      <td>80.0</td>\n",
       "      <td>2389.0</td>\n",
       "      <td>16.5</td>\n",
       "      <td>0.589</td>\n",
       "      <td>...</td>\n",
       "      <td>195.0</td>\n",
       "      <td>905.0</td>\n",
       "      <td>Steven Adams</td>\n",
       "      <td>2014.0</td>\n",
       "      <td>2018.0</td>\n",
       "      <td>C</td>\n",
       "      <td>7-0</td>\n",
       "      <td>255.0</td>\n",
       "      <td>July 20, 1993</td>\n",
       "      <td>University of Pittsburgh</td>\n",
       "    </tr>\n",
       "  </tbody>\n",
       "</table>\n",
       "<p>5 rows × 60 columns</p>\n",
       "</div>"
      ],
      "text/plain": [
       "     Year        Player Pos   Age   Tm     G    GS      MP   PER    TS%  ...  \\\n",
       "0  2017.0  Alex Abrines  SG  23.0  OKC  68.0   6.0  1055.0  10.1  0.560  ...   \n",
       "1  2017.0    Quincy Acy  PF  26.0  TOT  38.0   1.0   558.0  11.8  0.565  ...   \n",
       "2  2017.0    Quincy Acy  PF  26.0  DAL   6.0   0.0    48.0  -1.4  0.355  ...   \n",
       "3  2017.0    Quincy Acy  PF  26.0  BRK  32.0   1.0   510.0  13.1  0.587  ...   \n",
       "4  2017.0  Steven Adams   C  23.0  OKC  80.0  80.0  2389.0  16.5  0.589  ...   \n",
       "\n",
       "      PF    PTS          name  year_start  year_end  position  height  weight  \\\n",
       "0  114.0  406.0  Alex Abrines      2017.0    2018.0       G-F     6-6   190.0   \n",
       "1   67.0  222.0    Quincy Acy      2013.0    2018.0         F     6-7   240.0   \n",
       "2    9.0   13.0    Quincy Acy      2013.0    2018.0         F     6-7   240.0   \n",
       "3   58.0  209.0    Quincy Acy      2013.0    2018.0         F     6-7   240.0   \n",
       "4  195.0  905.0  Steven Adams      2014.0    2018.0         C     7-0   255.0   \n",
       "\n",
       "        birth_date                   college  \n",
       "0   August 1, 1993                       NaN  \n",
       "1  October 6, 1990         Baylor University  \n",
       "2  October 6, 1990         Baylor University  \n",
       "3  October 6, 1990         Baylor University  \n",
       "4    July 20, 1993  University of Pittsburgh  \n",
       "\n",
       "[5 rows x 60 columns]"
      ]
     },
     "execution_count": 16,
     "metadata": {},
     "output_type": "execute_result"
    }
   ],
   "source": [
    "df.head()"
   ]
  },
  {
   "cell_type": "markdown",
   "id": "7034fa83-1f8c-4394-91a6-c7bc65fde331",
   "metadata": {},
   "source": [
    "## Are there misses (mismatches) in the resulting dataframe?"
   ]
  },
  {
   "cell_type": "code",
   "execution_count": 18,
   "id": "1df27681-a45e-46ff-807d-77409c690cea",
   "metadata": {},
   "outputs": [
    {
     "data": {
      "text/plain": [
       "True"
      ]
     },
     "execution_count": 18,
     "metadata": {},
     "output_type": "execute_result"
    }
   ],
   "source": [
    "df['name'].isna().any()"
   ]
  },
  {
   "cell_type": "markdown",
   "id": "ea3bd43f-f9ae-444a-aae3-792d43b728f0",
   "metadata": {},
   "source": [
    "## How many rows couldn't be matched?"
   ]
  },
  {
   "cell_type": "code",
   "execution_count": 48,
   "id": "e6cbc2e6-cc5f-4fb3-81c7-eb80d0071968",
   "metadata": {},
   "outputs": [
    {
     "data": {
      "text/plain": [
       "4"
      ]
     },
     "execution_count": 48,
     "metadata": {},
     "output_type": "execute_result"
    }
   ],
   "source": [
    "df[df['name'].isna()]['Player'].count()"
   ]
  },
  {
   "cell_type": "markdown",
   "id": "60d48f3a-c15d-475e-a821-bb5657d1cef2",
   "metadata": {},
   "source": [
    "## Extract the names of the players that couldn't be matched"
   ]
  },
  {
   "cell_type": "code",
   "execution_count": 51,
   "id": "e8463c4d-00ae-4e7c-a48f-60cd0fedce71",
   "metadata": {},
   "outputs": [
    {
     "data": {
      "text/plain": [
       "349             Luc Mbah\n",
       "350        James Michael\n",
       "352    Sheldon McClellan\n",
       "593          Metta World\n",
       "Name: Player, dtype: object"
      ]
     },
     "execution_count": 51,
     "metadata": {},
     "output_type": "execute_result"
    }
   ],
   "source": [
    "df[df['name'].isna()]['Player']"
   ]
  },
  {
   "cell_type": "markdown",
   "id": "64624553-9b70-4068-bc23-82f4eb9a37e9",
   "metadata": {},
   "source": [
    "## Modify players_df with the correct names to re-try a successful merge"
   ]
  },
  {
   "cell_type": "code",
   "execution_count": 116,
   "id": "78bc90f2-d11b-4ac3-8d91-b8d60c355e52",
   "metadata": {},
   "outputs": [
    {
     "data": {
      "text/html": [
       "<div>\n",
       "<style scoped>\n",
       "    .dataframe tbody tr th:only-of-type {\n",
       "        vertical-align: middle;\n",
       "    }\n",
       "\n",
       "    .dataframe tbody tr th {\n",
       "        vertical-align: top;\n",
       "    }\n",
       "\n",
       "    .dataframe thead th {\n",
       "        text-align: right;\n",
       "    }\n",
       "</style>\n",
       "<table border=\"1\" class=\"dataframe\">\n",
       "  <thead>\n",
       "    <tr style=\"text-align: right;\">\n",
       "      <th></th>\n",
       "      <th>name</th>\n",
       "      <th>year_start</th>\n",
       "      <th>year_end</th>\n",
       "      <th>position</th>\n",
       "      <th>height</th>\n",
       "      <th>weight</th>\n",
       "      <th>birth_date</th>\n",
       "      <th>college</th>\n",
       "    </tr>\n",
       "  </thead>\n",
       "  <tbody>\n",
       "    <tr>\n",
       "      <th>2595</th>\n",
       "      <td>Luc Mbah a Moute</td>\n",
       "      <td>2009</td>\n",
       "      <td>2018</td>\n",
       "      <td>F</td>\n",
       "      <td>6-8</td>\n",
       "      <td>230.0</td>\n",
       "      <td>September 9, 1986</td>\n",
       "      <td>University of California, Los Angeles</td>\n",
       "    </tr>\n",
       "  </tbody>\n",
       "</table>\n",
       "</div>"
      ],
      "text/plain": [
       "                  name  year_start  year_end position height  weight  \\\n",
       "2595  Luc Mbah a Moute        2009      2018        F    6-8   230.0   \n",
       "\n",
       "             birth_date                                college  \n",
       "2595  September 9, 1986  University of California, Los Angeles  "
      ]
     },
     "execution_count": 116,
     "metadata": {},
     "output_type": "execute_result"
    }
   ],
   "source": [
    "players_df[players_df['name'].str.contains('Mbah')]"
   ]
  },
  {
   "cell_type": "code",
   "execution_count": 118,
   "id": "51f73781-bd06-46ad-8c35-d4d3f6853d40",
   "metadata": {},
   "outputs": [
    {
     "data": {
      "text/html": [
       "<div>\n",
       "<style scoped>\n",
       "    .dataframe tbody tr th:only-of-type {\n",
       "        vertical-align: middle;\n",
       "    }\n",
       "\n",
       "    .dataframe tbody tr th {\n",
       "        vertical-align: top;\n",
       "    }\n",
       "\n",
       "    .dataframe thead th {\n",
       "        text-align: right;\n",
       "    }\n",
       "</style>\n",
       "<table border=\"1\" class=\"dataframe\">\n",
       "  <thead>\n",
       "    <tr style=\"text-align: right;\">\n",
       "      <th></th>\n",
       "      <th>name</th>\n",
       "      <th>year_start</th>\n",
       "      <th>year_end</th>\n",
       "      <th>position</th>\n",
       "      <th>height</th>\n",
       "      <th>weight</th>\n",
       "      <th>birth_date</th>\n",
       "      <th>college</th>\n",
       "    </tr>\n",
       "  </thead>\n",
       "  <tbody>\n",
       "    <tr>\n",
       "      <th>2597</th>\n",
       "      <td>James Michael McAdoo</td>\n",
       "      <td>2015</td>\n",
       "      <td>2018</td>\n",
       "      <td>F</td>\n",
       "      <td>6-9</td>\n",
       "      <td>230.0</td>\n",
       "      <td>January 4, 1993</td>\n",
       "      <td>University of North Carolina</td>\n",
       "    </tr>\n",
       "  </tbody>\n",
       "</table>\n",
       "</div>"
      ],
      "text/plain": [
       "                      name  year_start  year_end position height  weight  \\\n",
       "2597  James Michael McAdoo        2015      2018        F    6-9   230.0   \n",
       "\n",
       "           birth_date                       college  \n",
       "2597  January 4, 1993  University of North Carolina  "
      ]
     },
     "execution_count": 118,
     "metadata": {},
     "output_type": "execute_result"
    }
   ],
   "source": [
    "players_df[players_df['name'].str.contains('James Michael')]"
   ]
  },
  {
   "cell_type": "code",
   "execution_count": 61,
   "id": "0e3c059e-006a-4486-9413-ad6e47ee2d0b",
   "metadata": {},
   "outputs": [
    {
     "data": {
      "text/html": [
       "<div>\n",
       "<style scoped>\n",
       "    .dataframe tbody tr th:only-of-type {\n",
       "        vertical-align: middle;\n",
       "    }\n",
       "\n",
       "    .dataframe tbody tr th {\n",
       "        vertical-align: top;\n",
       "    }\n",
       "\n",
       "    .dataframe thead th {\n",
       "        text-align: right;\n",
       "    }\n",
       "</style>\n",
       "<table border=\"1\" class=\"dataframe\">\n",
       "  <thead>\n",
       "    <tr style=\"text-align: right;\">\n",
       "      <th></th>\n",
       "      <th>name</th>\n",
       "      <th>year_start</th>\n",
       "      <th>year_end</th>\n",
       "      <th>position</th>\n",
       "      <th>height</th>\n",
       "      <th>weight</th>\n",
       "      <th>birth_date</th>\n",
       "      <th>college</th>\n",
       "    </tr>\n",
       "  </thead>\n",
       "  <tbody>\n",
       "    <tr>\n",
       "      <th>2475</th>\n",
       "      <td>Sheldon Mac</td>\n",
       "      <td>2017</td>\n",
       "      <td>2017</td>\n",
       "      <td>G</td>\n",
       "      <td>6-5</td>\n",
       "      <td>200.0</td>\n",
       "      <td>December 21, 1992</td>\n",
       "      <td>University of Miami</td>\n",
       "    </tr>\n",
       "  </tbody>\n",
       "</table>\n",
       "</div>"
      ],
      "text/plain": [
       "             name  year_start  year_end position height  weight  \\\n",
       "2475  Sheldon Mac        2017      2017        G    6-5   200.0   \n",
       "\n",
       "             birth_date              college  \n",
       "2475  December 21, 1992  University of Miami  "
      ]
     },
     "execution_count": 61,
     "metadata": {},
     "output_type": "execute_result"
    }
   ],
   "source": [
    "players_df[players_df['name'].str.contains('Sheldon')]"
   ]
  },
  {
   "cell_type": "code",
   "execution_count": 126,
   "id": "85e8df47-fcf4-4c32-b967-7e647bd97054",
   "metadata": {},
   "outputs": [
    {
     "data": {
      "text/html": [
       "<div>\n",
       "<style scoped>\n",
       "    .dataframe tbody tr th:only-of-type {\n",
       "        vertical-align: middle;\n",
       "    }\n",
       "\n",
       "    .dataframe tbody tr th {\n",
       "        vertical-align: top;\n",
       "    }\n",
       "\n",
       "    .dataframe thead th {\n",
       "        text-align: right;\n",
       "    }\n",
       "</style>\n",
       "<table border=\"1\" class=\"dataframe\">\n",
       "  <thead>\n",
       "    <tr style=\"text-align: right;\">\n",
       "      <th></th>\n",
       "      <th>name</th>\n",
       "      <th>year_start</th>\n",
       "      <th>year_end</th>\n",
       "      <th>position</th>\n",
       "      <th>height</th>\n",
       "      <th>weight</th>\n",
       "      <th>birth_date</th>\n",
       "      <th>college</th>\n",
       "    </tr>\n",
       "  </thead>\n",
       "  <tbody>\n",
       "    <tr>\n",
       "      <th>4487</th>\n",
       "      <td>Metta World</td>\n",
       "      <td>2000</td>\n",
       "      <td>2017</td>\n",
       "      <td>F</td>\n",
       "      <td>6-6</td>\n",
       "      <td>260.0</td>\n",
       "      <td>November 13, 1979</td>\n",
       "      <td>St. John's University</td>\n",
       "    </tr>\n",
       "  </tbody>\n",
       "</table>\n",
       "</div>"
      ],
      "text/plain": [
       "             name  year_start  year_end position height  weight  \\\n",
       "4487  Metta World        2000      2017        F    6-6   260.0   \n",
       "\n",
       "             birth_date                college  \n",
       "4487  November 13, 1979  St. John's University  "
      ]
     },
     "execution_count": 126,
     "metadata": {},
     "output_type": "execute_result"
    }
   ],
   "source": [
    "players_df[players_df['name'].str.contains('Metta World')]"
   ]
  },
  {
   "cell_type": "code",
   "execution_count": 20,
   "id": "1ad53f42-c4d1-4963-92d6-040f843125e0",
   "metadata": {},
   "outputs": [],
   "source": [
    "players_to_change={'Luc Mbah':'Luc Mbah a Moute',\n",
    "                  'James Michael':'James Michael McAdoo',\n",
    "                  'Sheldon McClellan':'Sheldon Mac',\n",
    "                  'Metta World':'Metta World Peace'}"
   ]
  },
  {
   "cell_type": "code",
   "execution_count": 22,
   "id": "bf6475ea-c3aa-4664-8ef3-0f393f1df08c",
   "metadata": {},
   "outputs": [],
   "source": [
    "for new_name,old_name in players_to_change.items():\n",
    "    players_df.loc[players_df['name']==old_name,'name']=new_name"
   ]
  },
  {
   "cell_type": "markdown",
   "id": "b34eefa7-854c-46e4-856a-d3c85f44e234",
   "metadata": {},
   "source": [
    "## Perform the merge between s2017_df and players_df again, this time, without misses"
   ]
  },
  {
   "cell_type": "code",
   "execution_count": 24,
   "id": "6b8c7f22-3df4-4f85-b910-e38e27e40f69",
   "metadata": {},
   "outputs": [],
   "source": [
    "df=s2017_df.merge(players_df,how='left',left_on='Player',right_on='name')"
   ]
  },
  {
   "cell_type": "code",
   "execution_count": 26,
   "id": "249b451b-a63e-45f8-abc5-7a8b1a5afaa5",
   "metadata": {},
   "outputs": [
    {
     "data": {
      "text/plain": [
       "0"
      ]
     },
     "execution_count": 26,
     "metadata": {},
     "output_type": "execute_result"
    }
   ],
   "source": [
    "df[df['name'].isna()]['Player'].count()"
   ]
  },
  {
   "cell_type": "markdown",
   "id": "2e167053-60aa-41a6-8c41-569e2ab5f23a",
   "metadata": {},
   "source": [
    "## Remove unnecessary columns"
   ]
  },
  {
   "cell_type": "code",
   "execution_count": 28,
   "id": "ce02c229-9843-4c16-ac51-f94f5a566653",
   "metadata": {},
   "outputs": [],
   "source": [
    "columns_to_drop = [\n",
    "    \"Year\",\n",
    "    \"PER\",\n",
    "    \"TS%\",\n",
    "    \"3PAr\",\n",
    "    \"FTr\",\n",
    "    \"USG%\",\n",
    "    \"blanl\",\n",
    "    \"OWS\",\n",
    "    \"DWS\",\n",
    "    \"WS\",\n",
    "    \"WS/48\",\n",
    "    \"blank2\",\n",
    "    \"OBPM\",\n",
    "    \"DBPM\",\n",
    "    \"BPM\",\n",
    "    \"VORP\",\n",
    "    \"FG%\",\n",
    "    \"3P%\",\n",
    "    \"eFG%\",\n",
    "    \"FT%\",\n",
    "    \"name\",\n",
    "]"
   ]
  },
  {
   "cell_type": "code",
   "execution_count": 30,
   "id": "33d13274-7dc3-41ea-a546-e19d89e766ee",
   "metadata": {},
   "outputs": [],
   "source": [
    "df.drop(columns=columns_to_drop,inplace=True)"
   ]
  },
  {
   "cell_type": "markdown",
   "id": "6a723400-f1d3-493a-b909-a550c457eae3",
   "metadata": {},
   "source": [
    "## Rename teams to their full names"
   ]
  },
  {
   "cell_type": "code",
   "execution_count": 32,
   "id": "a7227aea-ae7f-4f3c-8a2e-dbc56c8a9cf0",
   "metadata": {},
   "outputs": [],
   "source": [
    "team_mapping = {\n",
    "    \"OKC\": \"Oklahoma City Thunder\",\n",
    "    \"DAL\": \"Dallas Mavericks\",\n",
    "    \"BRK\": \"Brooklyn Nets\",\n",
    "    \"SAC\": \"Sacramento Kings\",\n",
    "    \"NOP\": \"New Orleans Pelicans\",\n",
    "    \"MIN\": \"Minnesota Timberwolves\",\n",
    "    \"SAS\": \"San Antonio Spurs\",\n",
    "    \"IND\": \"Indiana Pacers\",\n",
    "    \"MEM\": \"Memphis Grizzlies\",\n",
    "    \"POR\": \"Portland Trail Blazers\",\n",
    "    \"CLE\": \"Cleveland Cavaliers\",\n",
    "    \"LAC\": \"Los Angeles Clippers\",\n",
    "    \"PHI\": \"Philadelphia 76ers\",\n",
    "    \"HOU\": \"Houston Rockets\",\n",
    "    \"MIL\": \"Milwaukee Bucks\",\n",
    "    \"NYK\": \"New York Knicks\",\n",
    "    \"DEN\": \"Denver Nuggets\",\n",
    "    \"ORL\": \"Orlando Magic\",\n",
    "    \"MIA\": \"Miami Heat\",\n",
    "    \"PHO\": \"Phoenix Suns\",\n",
    "    \"GSW\": \"Golden State Warriors\",\n",
    "    \"CHO\": \"Charlotte Hornets\",\n",
    "    \"DET\": \"Detroit Pistons\",\n",
    "    \"ATL\": \"Atlanta Hawks\",\n",
    "    \"WAS\": \"Washington Wizards\",\n",
    "    \"LAL\": \"Los Angeles Lakers\",\n",
    "    \"UTA\": \"Utah Jazz\",\n",
    "    \"BOS\": \"Boston Celtics\",\n",
    "    \"CHI\": \"Chicago Bulls\",\n",
    "    \"TOR\": \"Toronto Raptors\"\n",
    "}"
   ]
  },
  {
   "cell_type": "code",
   "execution_count": 34,
   "id": "c3e1c513-62d3-4390-9539-f092b92e051f",
   "metadata": {},
   "outputs": [],
   "source": [
    "for s_name,f_name in team_mapping.items():\n",
    "    df.loc[df['Tm']==s_name,'Team']=f_name"
   ]
  },
  {
   "cell_type": "markdown",
   "id": "3503259b-8785-4029-8c9e-11eb419b294e",
   "metadata": {},
   "source": [
    "## Convert birthday to a datetime object"
   ]
  },
  {
   "cell_type": "code",
   "execution_count": 36,
   "id": "7bd7359e-b4fa-4db7-99d7-34ed089dfb06",
   "metadata": {},
   "outputs": [],
   "source": [
    "df['birth_date']=pd.to_datetime(df['birth_date'])"
   ]
  },
  {
   "cell_type": "code",
   "execution_count": 148,
   "id": "212d6666-cf2d-4532-9f9e-3cdb87ef758f",
   "metadata": {},
   "outputs": [],
   "source": [
    "df_copy=df.copy()"
   ]
  },
  {
   "cell_type": "markdown",
   "id": "891e02c0-35da-487b-8739-2e0233ea037b",
   "metadata": {},
   "source": [
    "## Delete all players from the TOT team"
   ]
  },
  {
   "cell_type": "code",
   "execution_count": 38,
   "id": "143c5673-2a64-4e5c-b6dc-17206fdf0064",
   "metadata": {},
   "outputs": [],
   "source": [
    "df.drop(df.loc[df['Tm']=='TOT'].index,inplace=True)"
   ]
  },
  {
   "cell_type": "markdown",
   "id": "cc8d98a4-058f-4c35-ad78-51d34ef8bdda",
   "metadata": {},
   "source": [
    "# Analysis"
   ]
  },
  {
   "cell_type": "markdown",
   "id": "815d1e52-94e3-4c3a-947c-6bb39d3e8434",
   "metadata": {},
   "source": [
    "## What's the team with the most players in the league?"
   ]
  },
  {
   "cell_type": "code",
   "execution_count": null,
   "id": "2714ef22-d49a-43b9-bed3-dcdfa8922013",
   "metadata": {},
   "outputs": [],
   "source": []
  },
  {
   "cell_type": "code",
   "execution_count": 55,
   "id": "f6204db6-5781-425d-813b-61eef198f687",
   "metadata": {},
   "outputs": [
    {
     "data": {
      "text/plain": [
       "'New Orleans Pelicans'"
      ]
     },
     "execution_count": 55,
     "metadata": {},
     "output_type": "execute_result"
    }
   ],
   "source": [
    "df.groupby('Team')['Player'].count().sort_values(ascending=False).idxmax()"
   ]
  },
  {
   "cell_type": "markdown",
   "id": "d7a89f93-7589-4aec-8678-56d66ce13b8c",
   "metadata": {},
   "source": [
    "## What's the team with the lowest FG"
   ]
  },
  {
   "cell_type": "code",
   "execution_count": 68,
   "id": "c32a5816-aed6-48ec-92ad-64d5faf0a76d",
   "metadata": {},
   "outputs": [
    {
     "data": {
      "text/plain": [
       "'Dallas Mavericks'"
      ]
     },
     "execution_count": 68,
     "metadata": {},
     "output_type": "execute_result"
    }
   ],
   "source": [
    "df.groupby('Team')['FG'].sum().idxmin()"
   ]
  },
  {
   "cell_type": "code",
   "execution_count": 62,
   "id": "4c9ffc8e-dbf0-46b7-b57d-1ad8014bacfa",
   "metadata": {},
   "outputs": [],
   "source": [
    "pd.set_option(\"display.max_columns\",None)"
   ]
  },
  {
   "cell_type": "markdown",
   "id": "4016fe64-b42d-4136-9c6f-408a5c499071",
   "metadata": {},
   "source": [
    "## What's the team with the best FG%?"
   ]
  },
  {
   "cell_type": "code",
   "execution_count": 77,
   "id": "837bbcae-a8ec-45f4-b3e3-36884e10d569",
   "metadata": {},
   "outputs": [],
   "source": [
    "df_prc=df.groupby('Team')[['FG','FGA']].sum()"
   ]
  },
  {
   "cell_type": "code",
   "execution_count": 85,
   "id": "c95ec657-e1f2-4b3e-bb90-4afebf175e77",
   "metadata": {},
   "outputs": [],
   "source": [
    "df_prc['FG%']=df_prc['FG']/df_prc['FGA']"
   ]
  },
  {
   "cell_type": "code",
   "execution_count": 89,
   "id": "ddb11d98-414c-4899-95d4-2846b1780c05",
   "metadata": {},
   "outputs": [
    {
     "data": {
      "text/plain": [
       "'Golden State Warriors'"
      ]
     },
     "execution_count": 89,
     "metadata": {},
     "output_type": "execute_result"
    }
   ],
   "source": [
    "df_prc['FG%'].idxmax()"
   ]
  },
  {
   "cell_type": "markdown",
   "id": "95b9ed7e-cdfb-476b-9fa0-7e4fbaf30dd4",
   "metadata": {},
   "source": [
    "## What's the difference between the best and worst 3P shooters (by position)?"
   ]
  },
  {
   "cell_type": "code",
   "execution_count": 104,
   "id": "05d66562-1174-45eb-9f14-f4012d843fcc",
   "metadata": {},
   "outputs": [],
   "source": [
    "df_perc_3p=(df.groupby('Pos')['3P'].sum())/(df.groupby('Pos')['3PA'].sum())"
   ]
  },
  {
   "cell_type": "code",
   "execution_count": 108,
   "id": "0f11d453-19f0-488f-81e9-d9e929bf74eb",
   "metadata": {},
   "outputs": [
    {
     "data": {
      "text/plain": [
       "0.024253659969040164"
      ]
     },
     "execution_count": 108,
     "metadata": {},
     "output_type": "execute_result"
    }
   ],
   "source": [
    "df_perc_3p.max()-df_perc_3p.min()"
   ]
  },
  {
   "cell_type": "markdown",
   "id": "0599a1a2-f80f-47c1-905a-c359c5772630",
   "metadata": {},
   "source": [
    "## Find the best scorers in each team"
   ]
  },
  {
   "cell_type": "code",
   "execution_count": null,
   "id": "f21a2c9d-43e6-489b-ab51-54ccb93cad31",
   "metadata": {},
   "outputs": [],
   "source": []
  },
  {
   "cell_type": "code",
   "execution_count": 137,
   "id": "b9edcedf-b7be-4fb6-8012-350be2789aa1",
   "metadata": {},
   "outputs": [
    {
     "data": {
      "text/html": [
       "<div>\n",
       "<style scoped>\n",
       "    .dataframe tbody tr th:only-of-type {\n",
       "        vertical-align: middle;\n",
       "    }\n",
       "\n",
       "    .dataframe tbody tr th {\n",
       "        vertical-align: top;\n",
       "    }\n",
       "\n",
       "    .dataframe thead th {\n",
       "        text-align: right;\n",
       "    }\n",
       "</style>\n",
       "<table border=\"1\" class=\"dataframe\">\n",
       "  <thead>\n",
       "    <tr style=\"text-align: right;\">\n",
       "      <th></th>\n",
       "      <th>Player</th>\n",
       "      <th>Pos</th>\n",
       "      <th>PTS</th>\n",
       "    </tr>\n",
       "    <tr>\n",
       "      <th>Team</th>\n",
       "      <th></th>\n",
       "      <th></th>\n",
       "      <th></th>\n",
       "    </tr>\n",
       "  </thead>\n",
       "  <tbody>\n",
       "    <tr>\n",
       "      <th>Oklahoma City Thunder</th>\n",
       "      <td>Victor Oladipo</td>\n",
       "      <td>SG</td>\n",
       "      <td>2558.0</td>\n",
       "    </tr>\n",
       "    <tr>\n",
       "      <th>Houston Rockets</th>\n",
       "      <td>Tyler Ennis</td>\n",
       "      <td>SG</td>\n",
       "      <td>2356.0</td>\n",
       "    </tr>\n",
       "    <tr>\n",
       "      <th>Boston Celtics</th>\n",
       "      <td>Tyler Zeller</td>\n",
       "      <td>SG</td>\n",
       "      <td>2199.0</td>\n",
       "    </tr>\n",
       "    <tr>\n",
       "      <th>New Orleans Pelicans</th>\n",
       "      <td>Wayne Selden</td>\n",
       "      <td>SG</td>\n",
       "      <td>2099.0</td>\n",
       "    </tr>\n",
       "    <tr>\n",
       "      <th>Minnesota Timberwolves</th>\n",
       "      <td>Zach LaVine</td>\n",
       "      <td>SG</td>\n",
       "      <td>2061.0</td>\n",
       "    </tr>\n",
       "    <tr>\n",
       "      <th>Portland Trail Blazers</th>\n",
       "      <td>Tim Quarterman</td>\n",
       "      <td>SG</td>\n",
       "      <td>2024.0</td>\n",
       "    </tr>\n",
       "    <tr>\n",
       "      <th>Toronto Raptors</th>\n",
       "      <td>Terrence Ross</td>\n",
       "      <td>SG</td>\n",
       "      <td>2020.0</td>\n",
       "    </tr>\n",
       "    <tr>\n",
       "      <th>Golden State Warriors</th>\n",
       "      <td>Zaza Pachulia</td>\n",
       "      <td>SG</td>\n",
       "      <td>1999.0</td>\n",
       "    </tr>\n",
       "    <tr>\n",
       "      <th>Cleveland Cavaliers</th>\n",
       "      <td>Tristan Thompson</td>\n",
       "      <td>SG</td>\n",
       "      <td>1954.0</td>\n",
       "    </tr>\n",
       "    <tr>\n",
       "      <th>San Antonio Spurs</th>\n",
       "      <td>Tony Parker</td>\n",
       "      <td>SG</td>\n",
       "      <td>1888.0</td>\n",
       "    </tr>\n",
       "    <tr>\n",
       "      <th>Milwaukee Bucks</th>\n",
       "      <td>Tony Snell</td>\n",
       "      <td>SG</td>\n",
       "      <td>1832.0</td>\n",
       "    </tr>\n",
       "    <tr>\n",
       "      <th>Charlotte Hornets</th>\n",
       "      <td>Treveon Graham</td>\n",
       "      <td>SG</td>\n",
       "      <td>1830.0</td>\n",
       "    </tr>\n",
       "    <tr>\n",
       "      <th>Chicago Bulls</th>\n",
       "      <td>Taj Gibson</td>\n",
       "      <td>SG</td>\n",
       "      <td>1816.0</td>\n",
       "    </tr>\n",
       "    <tr>\n",
       "      <th>Washington Wizards</th>\n",
       "      <td>Trey Burke</td>\n",
       "      <td>SG</td>\n",
       "      <td>1805.0</td>\n",
       "    </tr>\n",
       "    <tr>\n",
       "      <th>Indiana Pacers</th>\n",
       "      <td>Thaddeus Young</td>\n",
       "      <td>SG</td>\n",
       "      <td>1775.0</td>\n",
       "    </tr>\n",
       "    <tr>\n",
       "      <th>Phoenix Suns</th>\n",
       "      <td>Tyson Chandler</td>\n",
       "      <td>SG</td>\n",
       "      <td>1726.0</td>\n",
       "    </tr>\n",
       "    <tr>\n",
       "      <th>New York Knicks</th>\n",
       "      <td>Willy Hernangomez</td>\n",
       "      <td>SG</td>\n",
       "      <td>1659.0</td>\n",
       "    </tr>\n",
       "    <tr>\n",
       "      <th>Utah Jazz</th>\n",
       "      <td>Trey Lyles</td>\n",
       "      <td>SG</td>\n",
       "      <td>1601.0</td>\n",
       "    </tr>\n",
       "    <tr>\n",
       "      <th>Brooklyn Nets</th>\n",
       "      <td>Yogi Ferrell</td>\n",
       "      <td>SG</td>\n",
       "      <td>1539.0</td>\n",
       "    </tr>\n",
       "    <tr>\n",
       "      <th>Sacramento Kings</th>\n",
       "      <td>Willie Cauley-Stein</td>\n",
       "      <td>SG</td>\n",
       "      <td>1528.0</td>\n",
       "    </tr>\n",
       "    <tr>\n",
       "      <th>Dallas Mavericks</th>\n",
       "      <td>Yogi Ferrell</td>\n",
       "      <td>SG</td>\n",
       "      <td>1518.0</td>\n",
       "    </tr>\n",
       "    <tr>\n",
       "      <th>Miami Heat</th>\n",
       "      <td>Willie Reed</td>\n",
       "      <td>SG</td>\n",
       "      <td>1483.0</td>\n",
       "    </tr>\n",
       "    <tr>\n",
       "      <th>Memphis Grizzlies</th>\n",
       "      <td>Zach Randolph</td>\n",
       "      <td>SG</td>\n",
       "      <td>1446.0</td>\n",
       "    </tr>\n",
       "    <tr>\n",
       "      <th>Atlanta Hawks</th>\n",
       "      <td>Tim Hardaway</td>\n",
       "      <td>SG</td>\n",
       "      <td>1414.0</td>\n",
       "    </tr>\n",
       "    <tr>\n",
       "      <th>Detroit Pistons</th>\n",
       "      <td>Tobias Harris</td>\n",
       "      <td>SG</td>\n",
       "      <td>1321.0</td>\n",
       "    </tr>\n",
       "    <tr>\n",
       "      <th>Los Angeles Clippers</th>\n",
       "      <td>Wesley Johnson</td>\n",
       "      <td>SG</td>\n",
       "      <td>1316.0</td>\n",
       "    </tr>\n",
       "    <tr>\n",
       "      <th>Denver Nuggets</th>\n",
       "      <td>Wilson Chandler</td>\n",
       "      <td>SG</td>\n",
       "      <td>1221.0</td>\n",
       "    </tr>\n",
       "    <tr>\n",
       "      <th>Los Angeles Lakers</th>\n",
       "      <td>Tyler Ennis</td>\n",
       "      <td>SG</td>\n",
       "      <td>1205.0</td>\n",
       "    </tr>\n",
       "    <tr>\n",
       "      <th>Orlando Magic</th>\n",
       "      <td>Terrence Ross</td>\n",
       "      <td>SG</td>\n",
       "      <td>1167.0</td>\n",
       "    </tr>\n",
       "    <tr>\n",
       "      <th>Philadelphia 76ers</th>\n",
       "      <td>Timothe Luwawu-Cabarrot</td>\n",
       "      <td>SG</td>\n",
       "      <td>1040.0</td>\n",
       "    </tr>\n",
       "  </tbody>\n",
       "</table>\n",
       "</div>"
      ],
      "text/plain": [
       "                                         Player Pos     PTS\n",
       "Team                                                       \n",
       "Oklahoma City Thunder            Victor Oladipo  SG  2558.0\n",
       "Houston Rockets                     Tyler Ennis  SG  2356.0\n",
       "Boston Celtics                     Tyler Zeller  SG  2199.0\n",
       "New Orleans Pelicans               Wayne Selden  SG  2099.0\n",
       "Minnesota Timberwolves              Zach LaVine  SG  2061.0\n",
       "Portland Trail Blazers           Tim Quarterman  SG  2024.0\n",
       "Toronto Raptors                   Terrence Ross  SG  2020.0\n",
       "Golden State Warriors             Zaza Pachulia  SG  1999.0\n",
       "Cleveland Cavaliers            Tristan Thompson  SG  1954.0\n",
       "San Antonio Spurs                   Tony Parker  SG  1888.0\n",
       "Milwaukee Bucks                      Tony Snell  SG  1832.0\n",
       "Charlotte Hornets                Treveon Graham  SG  1830.0\n",
       "Chicago Bulls                        Taj Gibson  SG  1816.0\n",
       "Washington Wizards                   Trey Burke  SG  1805.0\n",
       "Indiana Pacers                   Thaddeus Young  SG  1775.0\n",
       "Phoenix Suns                     Tyson Chandler  SG  1726.0\n",
       "New York Knicks               Willy Hernangomez  SG  1659.0\n",
       "Utah Jazz                            Trey Lyles  SG  1601.0\n",
       "Brooklyn Nets                      Yogi Ferrell  SG  1539.0\n",
       "Sacramento Kings            Willie Cauley-Stein  SG  1528.0\n",
       "Dallas Mavericks                   Yogi Ferrell  SG  1518.0\n",
       "Miami Heat                          Willie Reed  SG  1483.0\n",
       "Memphis Grizzlies                 Zach Randolph  SG  1446.0\n",
       "Atlanta Hawks                      Tim Hardaway  SG  1414.0\n",
       "Detroit Pistons                   Tobias Harris  SG  1321.0\n",
       "Los Angeles Clippers             Wesley Johnson  SG  1316.0\n",
       "Denver Nuggets                  Wilson Chandler  SG  1221.0\n",
       "Los Angeles Lakers                  Tyler Ennis  SG  1205.0\n",
       "Orlando Magic                     Terrence Ross  SG  1167.0\n",
       "Philadelphia 76ers      Timothe Luwawu-Cabarrot  SG  1040.0"
      ]
     },
     "execution_count": 137,
     "metadata": {},
     "output_type": "execute_result"
    }
   ],
   "source": [
    "df[['Player','Team','Pos','PTS']].groupby('Team').max().sort_values(by='PTS',ascending=False)"
   ]
  },
  {
   "cell_type": "markdown",
   "id": "42295f80-16ff-45fa-962f-da91ea5f3d5c",
   "metadata": {},
   "source": [
    "## Which team has the 'youngest squad', by average player age?"
   ]
  },
  {
   "cell_type": "code",
   "execution_count": 145,
   "id": "99e965b0-205c-426d-952e-73ddc74c14d1",
   "metadata": {},
   "outputs": [
    {
     "data": {
      "text/plain": [
       "'Portland Trail Blazers'"
      ]
     },
     "execution_count": 145,
     "metadata": {},
     "output_type": "execute_result"
    }
   ],
   "source": [
    "df.groupby('Team')['Age'].mean().idxmin()"
   ]
  },
  {
   "cell_type": "code",
   "execution_count": null,
   "id": "60c27167-1d1e-46c7-8f33-2739fcd2328a",
   "metadata": {},
   "outputs": [],
   "source": []
  }
 ],
 "metadata": {
  "kernelspec": {
   "display_name": "Python 3 (ipykernel)",
   "language": "python",
   "name": "python3"
  },
  "language_info": {
   "codemirror_mode": {
    "name": "ipython",
    "version": 3
   },
   "file_extension": ".py",
   "mimetype": "text/x-python",
   "name": "python",
   "nbconvert_exporter": "python",
   "pygments_lexer": "ipython3",
   "version": "3.12.4"
  }
 },
 "nbformat": 4,
 "nbformat_minor": 5
}
